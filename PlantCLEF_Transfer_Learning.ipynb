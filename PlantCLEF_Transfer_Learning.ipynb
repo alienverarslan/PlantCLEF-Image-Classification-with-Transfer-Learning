{
  "nbformat": 4,
  "nbformat_minor": 0,
  "metadata": {
    "colab": {
      "name": "PlantCLEF_Transfer_Learning.ipynb",
      "provenance": [],
      "collapsed_sections": [],
      "machine_shape": "hm"
    },
    "kernelspec": {
      "name": "python3",
      "display_name": "Python 3"
    },
    "language_info": {
      "codemirror_mode": {
        "name": "ipython",
        "version": 3
      },
      "file_extension": ".py",
      "mimetype": "text/x-python",
      "name": "python",
      "nbconvert_exporter": "python",
      "pygments_lexer": "ipython3",
      "version": "3.6.8"
    },
    "accelerator": "GPU"
  },
  "cells": [
    {
      "cell_type": "code",
      "metadata": {
        "id": "OqxzKBi973-7",
        "colab_type": "code",
        "colab": {}
      },
      "source": [
        "#!pip install autoimpute"
      ],
      "execution_count": 0,
      "outputs": []
    },
    {
      "cell_type": "code",
      "metadata": {
        "colab_type": "code",
        "id": "lqD7GS5GgEJu",
        "colab": {}
      },
      "source": [
        "import pandas as pd\n",
        "import numpy as np\n",
        "import matplotlib.pyplot as plt\n",
        "import seaborn as sns\n",
        "#from mpl_toolkits.basemap import Basemap\n",
        "import time\n",
        "\n",
        "from sklearn.cluster import DBSCAN, KMeans\n",
        "from sklearn.neighbors import NearestNeighbors\n",
        "from sklearn.preprocessing import StandardScaler, MinMaxScaler, OneHotEncoder, LabelEncoder\n",
        "from sklearn.neighbors import KNeighborsClassifier, KNeighborsRegressor\n",
        "from sklearn.ensemble import RandomForestClassifier, RandomForestRegressor\n",
        "from sklearn.pipeline import Pipeline\n",
        "from sklearn.model_selection import GridSearchCV, StratifiedKFold, train_test_split, cross_val_score\n",
        "from sklearn.metrics import accuracy_score\n",
        "from sklearn.linear_model import LogisticRegression\n",
        "from sklearn.neural_network import MLPClassifier\n",
        "\n",
        "from autoimpute.imputations import SingleImputer, MultipleImputer\n",
        "from imblearn.over_sampling import RandomOverSampler, SMOTE, SMOTENC\n",
        "\n",
        "from keras.models import Sequential\n",
        "from keras.layers import Dense\n",
        "from keras.layers import Dropout\n",
        "from keras import regularizers\n",
        "from keras import optimizers\n",
        "from keras.utils import np_utils\n",
        "from keras.callbacks import EarlyStopping\n",
        "from keras import backend as K\n",
        "\n",
        "import os\n",
        "os.environ['TF_CPP_MIN_LOG_LEVEL'] = '3'\n",
        "\n",
        "pd.plotting.register_matplotlib_converters()\n",
        "#pd.set_option('display.max_columns', None)\n",
        "pd.options.display.float_format = '{:,.3f}'.format\n",
        "sns.set()\n",
        "\n",
        "import warnings\n",
        "warnings.filterwarnings(\"ignore\")\n",
        "import os\n",
        "os.environ['TF_CPP_MIN_LOG_LEVEL'] = '3'"
      ],
      "execution_count": 0,
      "outputs": []
    },
    {
      "cell_type": "code",
      "metadata": {
        "id": "NDyk4pdy4ROZ",
        "colab_type": "code",
        "colab": {}
      },
      "source": [
        "def france_cluster_func(df):\n",
        "  if df['location_cluster'] == 0 and df['Latitude_1'] <= 46:\n",
        "    return 1000\n",
        "  elif df['location_cluster'] == 0 and df['Latitude_1'] > 46:\n",
        "    return 1001\n",
        "  else:\n",
        "    return df['location_cluster']"
      ],
      "execution_count": 0,
      "outputs": []
    },
    {
      "cell_type": "markdown",
      "metadata": {
        "colab_type": "text",
        "id": "GrR_EnmuhHDP"
      },
      "source": [
        "# Import Dataset"
      ]
    },
    {
      "cell_type": "code",
      "metadata": {
        "colab_type": "code",
        "id": "1uuGIoEogP-7",
        "colab": {}
      },
      "source": [
        "data = pd.read_csv(\".../Fruits-Train_features.csv\", encoding=\"latin1\", na_values=['missing', 'Missing', 'MISSING'])"
      ],
      "execution_count": 0,
      "outputs": []
    },
    {
      "cell_type": "code",
      "metadata": {
        "colab_type": "code",
        "id": "XgihvY35gP8l",
        "outputId": "d3c9baa3-bad9-4c3d-b1d4-046c89c8edf5",
        "colab": {
          "base_uri": "https://localhost:8080/",
          "height": 218
        }
      },
      "source": [
        "print(data.shape)\n",
        "data.head(3)"
      ],
      "execution_count": 0,
      "outputs": [
        {
          "output_type": "stream",
          "text": [
            "(7720, 1029)\n"
          ],
          "name": "stdout"
        },
        {
          "output_type": "execute_result",
          "data": {
            "text/html": [
              "<div>\n",
              "<style scoped>\n",
              "    .dataframe tbody tr th:only-of-type {\n",
              "        vertical-align: middle;\n",
              "    }\n",
              "\n",
              "    .dataframe tbody tr th {\n",
              "        vertical-align: top;\n",
              "    }\n",
              "\n",
              "    .dataframe thead th {\n",
              "        text-align: right;\n",
              "    }\n",
              "</style>\n",
              "<table border=\"1\" class=\"dataframe\">\n",
              "  <thead>\n",
              "    <tr style=\"text-align: right;\">\n",
              "      <th></th>\n",
              "      <th>feature 1</th>\n",
              "      <th>feature 2</th>\n",
              "      <th>feature 3</th>\n",
              "      <th>feature 4</th>\n",
              "      <th>feature 5</th>\n",
              "      <th>feature 6</th>\n",
              "      <th>feature 7</th>\n",
              "      <th>feature 8</th>\n",
              "      <th>feature 9</th>\n",
              "      <th>feature 10</th>\n",
              "      <th>feature 11</th>\n",
              "      <th>feature 12</th>\n",
              "      <th>feature 13</th>\n",
              "      <th>feature 14</th>\n",
              "      <th>feature 15</th>\n",
              "      <th>feature 16</th>\n",
              "      <th>feature 17</th>\n",
              "      <th>feature 18</th>\n",
              "      <th>feature 19</th>\n",
              "      <th>feature 20</th>\n",
              "      <th>feature 21</th>\n",
              "      <th>feature 22</th>\n",
              "      <th>feature 23</th>\n",
              "      <th>feature 24</th>\n",
              "      <th>feature 25</th>\n",
              "      <th>feature 26</th>\n",
              "      <th>feature 27</th>\n",
              "      <th>feature 28</th>\n",
              "      <th>feature 29</th>\n",
              "      <th>feature 30</th>\n",
              "      <th>feature 31</th>\n",
              "      <th>feature 32</th>\n",
              "      <th>feature 33</th>\n",
              "      <th>feature 34</th>\n",
              "      <th>feature 35</th>\n",
              "      <th>feature 36</th>\n",
              "      <th>feature 37</th>\n",
              "      <th>feature 38</th>\n",
              "      <th>feature 39</th>\n",
              "      <th>feature 40</th>\n",
              "      <th>...</th>\n",
              "      <th>feature 990</th>\n",
              "      <th>feature 991</th>\n",
              "      <th>feature 992</th>\n",
              "      <th>feature 993</th>\n",
              "      <th>feature 994</th>\n",
              "      <th>feature 995</th>\n",
              "      <th>feature 996</th>\n",
              "      <th>feature 997</th>\n",
              "      <th>feature 998</th>\n",
              "      <th>feature 999</th>\n",
              "      <th>feature 1000</th>\n",
              "      <th>feature 1001</th>\n",
              "      <th>feature 1002</th>\n",
              "      <th>feature 1003</th>\n",
              "      <th>feature 1004</th>\n",
              "      <th>feature 1005</th>\n",
              "      <th>feature 1006</th>\n",
              "      <th>feature 1007</th>\n",
              "      <th>feature 1008</th>\n",
              "      <th>feature 1009</th>\n",
              "      <th>feature 1010</th>\n",
              "      <th>feature 1011</th>\n",
              "      <th>feature 1012</th>\n",
              "      <th>feature 1013</th>\n",
              "      <th>feature 1014</th>\n",
              "      <th>feature 1015</th>\n",
              "      <th>feature 1016</th>\n",
              "      <th>feature 1017</th>\n",
              "      <th>feature 1018</th>\n",
              "      <th>feature 1019</th>\n",
              "      <th>feature 1020</th>\n",
              "      <th>feature 1021</th>\n",
              "      <th>feature 1022</th>\n",
              "      <th>feature 1023</th>\n",
              "      <th>feature 1024</th>\n",
              "      <th>Date</th>\n",
              "      <th>Location</th>\n",
              "      <th>Latitude</th>\n",
              "      <th>Longitude</th>\n",
              "      <th>ClassId</th>\n",
              "    </tr>\n",
              "  </thead>\n",
              "  <tbody>\n",
              "    <tr>\n",
              "      <th>0</th>\n",
              "      <td>0.000</td>\n",
              "      <td>6.098</td>\n",
              "      <td>0.000</td>\n",
              "      <td>0.976</td>\n",
              "      <td>1.395</td>\n",
              "      <td>0.000</td>\n",
              "      <td>0.000</td>\n",
              "      <td>6.696</td>\n",
              "      <td>0.014</td>\n",
              "      <td>0.000</td>\n",
              "      <td>0.000</td>\n",
              "      <td>0.000</td>\n",
              "      <td>9.352</td>\n",
              "      <td>0.000</td>\n",
              "      <td>0.000</td>\n",
              "      <td>3.484</td>\n",
              "      <td>0.000</td>\n",
              "      <td>0.057</td>\n",
              "      <td>0.000</td>\n",
              "      <td>13.402</td>\n",
              "      <td>0.000</td>\n",
              "      <td>0.007</td>\n",
              "      <td>0.297</td>\n",
              "      <td>1.133</td>\n",
              "      <td>0.478</td>\n",
              "      <td>0.459</td>\n",
              "      <td>1.634</td>\n",
              "      <td>0.960</td>\n",
              "      <td>5.719</td>\n",
              "      <td>12.347</td>\n",
              "      <td>0.000</td>\n",
              "      <td>1.197</td>\n",
              "      <td>0.236</td>\n",
              "      <td>0.000</td>\n",
              "      <td>0.000</td>\n",
              "      <td>4.324</td>\n",
              "      <td>0.000</td>\n",
              "      <td>0.000</td>\n",
              "      <td>0.000</td>\n",
              "      <td>5.204</td>\n",
              "      <td>...</td>\n",
              "      <td>0.000</td>\n",
              "      <td>0.000</td>\n",
              "      <td>0.000</td>\n",
              "      <td>0.000</td>\n",
              "      <td>1.328</td>\n",
              "      <td>0.000</td>\n",
              "      <td>0.000</td>\n",
              "      <td>0.000</td>\n",
              "      <td>11.304</td>\n",
              "      <td>0.989</td>\n",
              "      <td>0.000</td>\n",
              "      <td>44.524</td>\n",
              "      <td>0.000</td>\n",
              "      <td>0.000</td>\n",
              "      <td>0.000</td>\n",
              "      <td>0.000</td>\n",
              "      <td>0.000</td>\n",
              "      <td>0.000</td>\n",
              "      <td>3.092</td>\n",
              "      <td>0.000</td>\n",
              "      <td>0.000</td>\n",
              "      <td>0.000</td>\n",
              "      <td>0.000</td>\n",
              "      <td>0.000</td>\n",
              "      <td>4.209</td>\n",
              "      <td>0.000</td>\n",
              "      <td>0.000</td>\n",
              "      <td>0.000</td>\n",
              "      <td>0.000</td>\n",
              "      <td>0.000</td>\n",
              "      <td>0.000</td>\n",
              "      <td>0.072</td>\n",
              "      <td>0.000</td>\n",
              "      <td>36.450</td>\n",
              "      <td>0.000</td>\n",
              "      <td>7/18/11</td>\n",
              "      <td>Montbouy</td>\n",
              "      <td>47.866</td>\n",
              "      <td>2.828</td>\n",
              "      <td>2584</td>\n",
              "    </tr>\n",
              "    <tr>\n",
              "      <th>1</th>\n",
              "      <td>1.464</td>\n",
              "      <td>0.179</td>\n",
              "      <td>0.000</td>\n",
              "      <td>1.461</td>\n",
              "      <td>0.000</td>\n",
              "      <td>0.309</td>\n",
              "      <td>5.226</td>\n",
              "      <td>0.668</td>\n",
              "      <td>3.505</td>\n",
              "      <td>0.000</td>\n",
              "      <td>0.385</td>\n",
              "      <td>0.000</td>\n",
              "      <td>1.004</td>\n",
              "      <td>0.000</td>\n",
              "      <td>0.000</td>\n",
              "      <td>0.000</td>\n",
              "      <td>2.712</td>\n",
              "      <td>4.767</td>\n",
              "      <td>0.000</td>\n",
              "      <td>0.147</td>\n",
              "      <td>0.847</td>\n",
              "      <td>0.000</td>\n",
              "      <td>1.308</td>\n",
              "      <td>0.000</td>\n",
              "      <td>0.000</td>\n",
              "      <td>0.000</td>\n",
              "      <td>0.028</td>\n",
              "      <td>0.625</td>\n",
              "      <td>12.352</td>\n",
              "      <td>2.687</td>\n",
              "      <td>0.010</td>\n",
              "      <td>0.000</td>\n",
              "      <td>0.000</td>\n",
              "      <td>3.330</td>\n",
              "      <td>1.758</td>\n",
              "      <td>8.931</td>\n",
              "      <td>0.963</td>\n",
              "      <td>0.000</td>\n",
              "      <td>0.000</td>\n",
              "      <td>3.201</td>\n",
              "      <td>...</td>\n",
              "      <td>0.000</td>\n",
              "      <td>11.700</td>\n",
              "      <td>0.000</td>\n",
              "      <td>0.015</td>\n",
              "      <td>7.548</td>\n",
              "      <td>0.083</td>\n",
              "      <td>6.792</td>\n",
              "      <td>0.000</td>\n",
              "      <td>0.000</td>\n",
              "      <td>5.865</td>\n",
              "      <td>0.000</td>\n",
              "      <td>0.489</td>\n",
              "      <td>0.000</td>\n",
              "      <td>0.000</td>\n",
              "      <td>0.000</td>\n",
              "      <td>0.000</td>\n",
              "      <td>0.761</td>\n",
              "      <td>0.000</td>\n",
              "      <td>2.804</td>\n",
              "      <td>0.000</td>\n",
              "      <td>1.907</td>\n",
              "      <td>0.000</td>\n",
              "      <td>0.019</td>\n",
              "      <td>0.000</td>\n",
              "      <td>15.939</td>\n",
              "      <td>0.000</td>\n",
              "      <td>0.000</td>\n",
              "      <td>0.000</td>\n",
              "      <td>0.000</td>\n",
              "      <td>4.234</td>\n",
              "      <td>0.000</td>\n",
              "      <td>0.000</td>\n",
              "      <td>0.000</td>\n",
              "      <td>0.000</td>\n",
              "      <td>0.000</td>\n",
              "      <td>4/19/12</td>\n",
              "      <td>Portiragnes</td>\n",
              "      <td>nan</td>\n",
              "      <td>nan</td>\n",
              "      <td>14872</td>\n",
              "    </tr>\n",
              "    <tr>\n",
              "      <th>2</th>\n",
              "      <td>0.000</td>\n",
              "      <td>0.000</td>\n",
              "      <td>0.000</td>\n",
              "      <td>0.000</td>\n",
              "      <td>0.000</td>\n",
              "      <td>0.000</td>\n",
              "      <td>0.000</td>\n",
              "      <td>1.156</td>\n",
              "      <td>4.434</td>\n",
              "      <td>0.000</td>\n",
              "      <td>0.000</td>\n",
              "      <td>0.000</td>\n",
              "      <td>0.000</td>\n",
              "      <td>0.000</td>\n",
              "      <td>0.000</td>\n",
              "      <td>0.270</td>\n",
              "      <td>0.000</td>\n",
              "      <td>0.000</td>\n",
              "      <td>0.000</td>\n",
              "      <td>0.000</td>\n",
              "      <td>0.000</td>\n",
              "      <td>0.000</td>\n",
              "      <td>0.587</td>\n",
              "      <td>0.526</td>\n",
              "      <td>0.000</td>\n",
              "      <td>0.000</td>\n",
              "      <td>0.000</td>\n",
              "      <td>0.000</td>\n",
              "      <td>0.000</td>\n",
              "      <td>0.000</td>\n",
              "      <td>0.000</td>\n",
              "      <td>14.529</td>\n",
              "      <td>0.000</td>\n",
              "      <td>0.000</td>\n",
              "      <td>0.000</td>\n",
              "      <td>0.000</td>\n",
              "      <td>0.000</td>\n",
              "      <td>0.000</td>\n",
              "      <td>0.000</td>\n",
              "      <td>9.339</td>\n",
              "      <td>...</td>\n",
              "      <td>0.000</td>\n",
              "      <td>0.000</td>\n",
              "      <td>0.000</td>\n",
              "      <td>0.000</td>\n",
              "      <td>0.000</td>\n",
              "      <td>0.000</td>\n",
              "      <td>0.000</td>\n",
              "      <td>0.000</td>\n",
              "      <td>0.000</td>\n",
              "      <td>0.000</td>\n",
              "      <td>0.000</td>\n",
              "      <td>0.000</td>\n",
              "      <td>0.000</td>\n",
              "      <td>0.000</td>\n",
              "      <td>0.000</td>\n",
              "      <td>0.000</td>\n",
              "      <td>0.000</td>\n",
              "      <td>0.000</td>\n",
              "      <td>0.000</td>\n",
              "      <td>0.000</td>\n",
              "      <td>0.000</td>\n",
              "      <td>0.000</td>\n",
              "      <td>0.000</td>\n",
              "      <td>0.000</td>\n",
              "      <td>0.000</td>\n",
              "      <td>0.000</td>\n",
              "      <td>0.000</td>\n",
              "      <td>0.011</td>\n",
              "      <td>0.057</td>\n",
              "      <td>0.000</td>\n",
              "      <td>0.000</td>\n",
              "      <td>0.000</td>\n",
              "      <td>0.000</td>\n",
              "      <td>0.000</td>\n",
              "      <td>0.000</td>\n",
              "      <td>11/26/13</td>\n",
              "      <td>Montpellier</td>\n",
              "      <td>43.597</td>\n",
              "      <td>3.899</td>\n",
              "      <td>151</td>\n",
              "    </tr>\n",
              "  </tbody>\n",
              "</table>\n",
              "<p>3 rows × 1029 columns</p>\n",
              "</div>"
            ],
            "text/plain": [
              "   feature 1  feature 2  feature 3  ...  Latitude  Longitude  ClassId\n",
              "0      0.000      6.098      0.000  ...    47.866      2.828     2584\n",
              "1      1.464      0.179      0.000  ...       nan        nan    14872\n",
              "2      0.000      0.000      0.000  ...    43.597      3.899      151\n",
              "\n",
              "[3 rows x 1029 columns]"
            ]
          },
          "metadata": {
            "tags": []
          },
          "execution_count": 29
        }
      ]
    },
    {
      "cell_type": "code",
      "metadata": {
        "colab_type": "code",
        "id": "KRISqo93o_jY",
        "colab": {}
      },
      "source": [
        "#Correct errors in date column & create month and year columns\n",
        "data = data.replace(\"missing\", np.nan).replace(\"1800-1-1\", np.nan)\\\n",
        "                                                .replace(\"1074-7-20\", \"7/20/15\")\\\n",
        "                                                .replace(\"1011-12-24\", \"12/24/15\")\n",
        "data[\"Date\"] = pd.to_datetime(data.Date)\n",
        "data[\"Month\"] = data.Date.dt.month\n",
        "data[\"Year\"] = data.Date.dt.year\n",
        "data[\"Quarter\"] = data.Date.dt.quarter"
      ],
      "execution_count": 0,
      "outputs": []
    },
    {
      "cell_type": "code",
      "metadata": {
        "colab_type": "code",
        "id": "EZrR9fjAjDSm",
        "colab": {}
      },
      "source": [
        "data[\"Season\"] = [(month % 12 + 3)//3 for month in data.Month]"
      ],
      "execution_count": 0,
      "outputs": []
    },
    {
      "cell_type": "code",
      "metadata": {
        "id": "fDSj0h7aaHXY",
        "colab_type": "code",
        "colab": {}
      },
      "source": [
        "data['Half_Year_1'] = [1 if x in [4,5,6,7,8,9,10] else 2 if x in [1,2,3,11,12] else np.nan for x in data.Month]\n",
        "data['Half_Year_2'] = [1 if x in [5,6,7,8,9] else 2 if x in [1,2,3,4,10,11,12] else np.nan for x in data.Month]"
      ],
      "execution_count": 0,
      "outputs": []
    },
    {
      "cell_type": "markdown",
      "metadata": {
        "colab_type": "text",
        "id": "U8ycxzJSqLeL"
      },
      "source": [
        "# Missing Values"
      ]
    },
    {
      "cell_type": "code",
      "metadata": {
        "colab_type": "code",
        "id": "yerIlYDEgP63",
        "outputId": "0a4af4f8-a2b9-4a78-86c8-9de1377aa0ef",
        "colab": {
          "base_uri": "https://localhost:8080/",
          "height": 255
        }
      },
      "source": [
        "#Missing Values in Dataset\n",
        "print(data.isna().sum().tail(10))\n",
        "print('\\nNumber of rows both Location & Latitude columns are missing:', len(data[(data.Location.isna()) & (data.Latitude.isna())]))\n",
        "print('Total number of missing values in CNN features:', sum(data.iloc[:,:1024].isna().sum()))"
      ],
      "execution_count": 0,
      "outputs": [
        {
          "output_type": "stream",
          "text": [
            "Location        459\n",
            "Latitude       4472\n",
            "Longitude      4472\n",
            "ClassId           0\n",
            "Month           340\n",
            "Year            340\n",
            "Quarter         340\n",
            "Season          340\n",
            "Half_Year_1     340\n",
            "Half_Year_2     340\n",
            "dtype: int64\n",
            "\n",
            "Number of rows both Location & Latitude columns are missing: 400\n",
            "Total number of missing values in CNN features: 0\n"
          ],
          "name": "stdout"
        }
      ]
    },
    {
      "cell_type": "markdown",
      "metadata": {
        "colab_type": "text",
        "id": "Z5Dl8paPdhy8"
      },
      "source": [
        "# Class ID Counts"
      ]
    },
    {
      "cell_type": "code",
      "metadata": {
        "colab_type": "code",
        "id": "FOGce30tfCmR",
        "outputId": "07d25527-4c50-4344-9464-75bdebbd3923",
        "colab": {
          "base_uri": "https://localhost:8080/",
          "height": 372
        }
      },
      "source": [
        "print('ClassID Number:', data.ClassId.nunique())\n",
        "\n",
        "plt.figure(figsize=(10,5))\n",
        "sns.distplot(data.ClassId.value_counts())\n",
        "plt.title('ClassID Value Count Histogram')\n",
        "plt.show()"
      ],
      "execution_count": 0,
      "outputs": [
        {
          "output_type": "stream",
          "text": [
            "ClassID Number: 755\n"
          ],
          "name": "stdout"
        },
        {
          "output_type": "display_data",
          "data": {
            "image/png": "[encoded data removed]",
            "text/plain": [
              "<Figure size 720x360 with 1 Axes>"
            ]
          },
          "metadata": {
            "tags": []
          }
        }
      ]
    },
    {
      "cell_type": "markdown",
      "metadata": {
        "colab_type": "text",
        "id": "ht-SgafPiwjh"
      },
      "source": [
        "# Filling Empty Coordinates"
      ]
    },
    {
      "cell_type": "code",
      "metadata": {
        "colab_type": "code",
        "id": "QG_lO5S1eR7I",
        "colab": {}
      },
      "source": [
        "#Data collected from API is saved to csv file. No need to reuse the connection.\n",
        "\"\"\"\n",
        "location_data = traindata_location_modified_1[pd.isna(traindata_location_modified_1[\"Location_Modified\"]) == False][\"Location_Modified\"]\n",
        "location_data_unique = pd.DataFrame(location_data.unique())\n",
        "location_data = location_data_unique[0].tolist()\n",
        "\n",
        "coordinate_list4 = []\n",
        "geolocator = Nominatim()\n",
        "for i in range(1264):\n",
        "  location = geolocator.geocode(location_data[i])\n",
        "  try:\n",
        "    coordinate_list4.append([location_data[i], location.latitude, location.longitude])\n",
        "  except:\n",
        "    coordinate_list4.append([location_data[i], \"NaN\", \"NaN\"])\n",
        "  sleep(0.5)\n",
        "\"\"\""
      ],
      "execution_count": 0,
      "outputs": []
    },
    {
      "cell_type": "code",
      "metadata": {
        "colab_type": "code",
        "id": "OEehlYmCkWVM",
        "colab": {}
      },
      "source": [
        "#Reading coordinates csv\n",
        "coordinates = pd.read_csv(\".../coordinates_final.csv\", header=None,encoding=\"latin1\")\n",
        "coordinates.columns = [\"Location\", \"Location_Modified\", \"Latitude_1\", \"Longitude_1\"]\n",
        "coordinates.drop(columns=[\"Location_Modified\"], inplace = True)"
      ],
      "execution_count": 0,
      "outputs": []
    },
    {
      "cell_type": "code",
      "metadata": {
        "colab_type": "code",
        "id": "GgZj0N9HkjKo",
        "colab": {}
      },
      "source": [
        "data = data.merge(coordinates, how='left', on='Location')\n",
        "data['Latitude_1'].fillna(data.Latitude, inplace=True)\n",
        "data['Longitude_1'].fillna(data.Longitude, inplace=True)"
      ],
      "execution_count": 0,
      "outputs": []
    },
    {
      "cell_type": "code",
      "metadata": {
        "colab_type": "code",
        "id": "4u1asgzTlUxZ",
        "outputId": "0fc8399d-31cd-4fdc-e666-11685b9900ea",
        "colab": {
          "base_uri": "https://localhost:8080/",
          "height": 202
        }
      },
      "source": [
        "data.isna().sum().tail(10)"
      ],
      "execution_count": 0,
      "outputs": [
        {
          "output_type": "execute_result",
          "data": {
            "text/plain": [
              "Longitude      4472\n",
              "ClassId           0\n",
              "Month           340\n",
              "Year            340\n",
              "Quarter         340\n",
              "Season          340\n",
              "Half_Year_1     340\n",
              "Half_Year_2     340\n",
              "Latitude_1      408\n",
              "Longitude_1     408\n",
              "dtype: int64"
            ]
          },
          "metadata": {
            "tags": []
          },
          "execution_count": 11
        }
      ]
    },
    {
      "cell_type": "markdown",
      "metadata": {
        "colab_type": "text",
        "id": "Aim9nPQJqXR0"
      },
      "source": [
        "# Coordinates on World Map"
      ]
    },
    {
      "cell_type": "code",
      "metadata": {
        "colab_type": "code",
        "id": "8piAUnsDi3sD",
        "outputId": "d6c90005-0d5e-4a38-f85e-43cf9963678b",
        "colab": {
          "base_uri": "https://localhost:8080/",
          "height": 867
        }
      },
      "source": [
        "# Set the dimension of the figure\n",
        "my_dpi=96\n",
        "plt.figure(figsize=(2600/my_dpi, 1800/my_dpi), dpi=my_dpi)\n",
        " \n",
        "# Make the background map\n",
        "m=Basemap(llcrnrlon=-180, llcrnrlat=-65,urcrnrlon=180,urcrnrlat=80)\n",
        "m.drawmapboundary(fill_color='#A6CAE0', linewidth=0)\n",
        "m.fillcontinents(color='grey', alpha=0.3)\n",
        "m.drawcoastlines(linewidth=0.1, color=\"white\")\n",
        " \n",
        "# Add a point per position\n",
        "m.scatter(data[\"Longitude_1\"], data[\"Latitude_1\"], alpha=0.4, cmap=\"Set1\")\n",
        " \n",
        "plt.show()"
      ],
      "execution_count": 0,
      "outputs": [
        {
          "output_type": "display_data",
          "data": {
            "image/png": "[encoded data removed]",
            "text/plain": [
              "<Figure size 2600x1800 with 1 Axes>"
            ]
          },
          "metadata": {
            "tags": []
          }
        }
      ]
    },
    {
      "cell_type": "markdown",
      "metadata": {
        "colab_type": "text",
        "id": "ZTYdN6XjqfWT"
      },
      "source": [
        "### Coordinates - France"
      ]
    },
    {
      "cell_type": "code",
      "metadata": {
        "colab_type": "code",
        "id": "BfrjiAjry9TL",
        "outputId": "0ece5655-d57d-4c30-b22e-16223cc45620",
        "colab": {
          "base_uri": "https://localhost:8080/",
          "height": 34
        }
      },
      "source": [
        "#France App. Coordinates -> Latitude: 41.00 & 51.25 Longitude: -5.25 & 10\n",
        "data_france = data[(data['Latitude_1'] >= 41) & (data['Latitude_1'] <= 51.25)]\n",
        "data_france = data_france[(data_france['Longitude_1'] >= -5.25) & (data_france['Longitude_1'] <= 10)]\n",
        "len(data_france)"
      ],
      "execution_count": 0,
      "outputs": [
        {
          "output_type": "execute_result",
          "data": {
            "text/plain": [
              "6560"
            ]
          },
          "metadata": {
            "tags": []
          },
          "execution_count": 12
        }
      ]
    },
    {
      "cell_type": "code",
      "metadata": {
        "colab_type": "code",
        "id": "aTPwCtNb0TZd",
        "outputId": "49767948-326e-475b-cc0f-15abad9f6bdc",
        "colab": {
          "base_uri": "https://localhost:8080/",
          "height": 737
        }
      },
      "source": [
        "plt.figure(figsize=(16,12))\n",
        "sns.regplot(x=data_france['Longitude_1'], y=data_france['Latitude_1'], fit_reg=False)"
      ],
      "execution_count": 0,
      "outputs": [
        {
          "output_type": "execute_result",
          "data": {
            "text/plain": [
              "<matplotlib.axes._subplots.AxesSubplot at 0x7fb99de1cd30>"
            ]
          },
          "metadata": {
            "tags": []
          },
          "execution_count": 68
        },
        {
          "output_type": "display_data",
          "data": {
            "image/png": "[encoded data removed]",
            "text/plain": [
              "<Figure size 1152x864 with 1 Axes>"
            ]
          },
          "metadata": {
            "tags": []
          }
        }
      ]
    },
    {
      "cell_type": "markdown",
      "metadata": {
        "colab_type": "text",
        "id": "iH-ArVUwq2bK"
      },
      "source": [
        "### ClassID Value Counts (out of France)"
      ]
    },
    {
      "cell_type": "code",
      "metadata": {
        "colab_type": "code",
        "id": "yZrH44gIy9xh",
        "outputId": "171f0bea-085b-45b4-c802-b1e5198972e9",
        "colab": {
          "base_uri": "https://localhost:8080/",
          "height": 34
        }
      },
      "source": [
        "data_not_france = data[(data['Latitude_1'] < 41) | (data['Latitude_1'] > 51.25)]\n",
        "data_not_france = data_not_france[(data_not_france['Longitude_1'] < -5.25) | (data_not_france['Longitude_1'] > 10)]\n",
        "len(data_not_france)"
      ],
      "execution_count": 0,
      "outputs": [
        {
          "output_type": "execute_result",
          "data": {
            "text/plain": [
              "467"
            ]
          },
          "metadata": {
            "tags": []
          },
          "execution_count": 13
        }
      ]
    },
    {
      "cell_type": "code",
      "metadata": {
        "colab_type": "code",
        "id": "HjkVDuFu21Tr",
        "outputId": "dbdaff32-d4a1-43a2-8260-773c7a756c5e",
        "colab": {
          "base_uri": "https://localhost:8080/",
          "height": 340
        }
      },
      "source": [
        "data_not_france.ClassId.value_counts().value_counts()"
      ],
      "execution_count": 0,
      "outputs": [
        {
          "output_type": "execute_result",
          "data": {
            "text/plain": [
              "1     43\n",
              "2     15\n",
              "4      9\n",
              "3      5\n",
              "7      5\n",
              "5      4\n",
              "6      3\n",
              "28     2\n",
              "8      1\n",
              "59     1\n",
              "10     1\n",
              "16     1\n",
              "18     1\n",
              "21     1\n",
              "22     1\n",
              "25     1\n",
              "26     1\n",
              "9      1\n",
              "Name: ClassId, dtype: int64"
            ]
          },
          "metadata": {
            "tags": []
          },
          "execution_count": 37
        }
      ]
    },
    {
      "cell_type": "markdown",
      "metadata": {
        "id": "Ew1CQPPTbY4Z",
        "colab_type": "text"
      },
      "source": [
        "# Unique ClassId Counts by Month, Quarter, Season & Half Year"
      ]
    },
    {
      "cell_type": "markdown",
      "metadata": {
        "id": "yqKqf2wHaHYK",
        "colab_type": "text"
      },
      "source": [
        "### Month"
      ]
    },
    {
      "cell_type": "code",
      "metadata": {
        "id": "2T3V6L_GaHYK",
        "colab_type": "code",
        "outputId": "9e970f0f-b2d3-4346-8d03-a9cd7f83eb4f",
        "colab": {}
      },
      "source": [
        "#ClassId count\n",
        "main_list = []\n",
        "for i in range(1,13):\n",
        "    sub_list = list(data[data.Month == i]['ClassId'].unique())\n",
        "    main_list.append(sub_list)\n",
        "\n",
        "for i in range(12):\n",
        "    print(len(main_list[i]))"
      ],
      "execution_count": 0,
      "outputs": [
        {
          "output_type": "stream",
          "text": [
            "45\n",
            "53\n",
            "105\n",
            "197\n",
            "272\n",
            "267\n",
            "263\n",
            "276\n",
            "253\n",
            "194\n",
            "105\n",
            "75\n"
          ],
          "name": "stdout"
        }
      ]
    },
    {
      "cell_type": "code",
      "metadata": {
        "id": "e_JCv5M-aHYM",
        "colab_type": "code",
        "outputId": "6195bf93-952f-41ce-c62d-507b50f13f85",
        "colab": {}
      },
      "source": [
        "#Count of ClassIds that occur in only one period\n",
        "for i in range(12):\n",
        "    period_list = main_list[i]\n",
        "    other_period_list =[]\n",
        "    for j in range(12):\n",
        "        if i!=j:\n",
        "            other_period_list = other_period_list + main_list[j]\n",
        "    \n",
        "    other_period_list = list(set(other_period_list))\n",
        "    unique_cls_list = []\n",
        "    for cls in period_list:\n",
        "        if cls not in other_period_list:\n",
        "            unique_cls_list.append(cls)\n",
        "            \n",
        "    print('Month', i+1, ':', len(unique_cls_list))"
      ],
      "execution_count": 0,
      "outputs": [
        {
          "output_type": "stream",
          "text": [
            "Month 1 : 0\n",
            "Month 2 : 1\n",
            "Month 3 : 10\n",
            "Month 4 : 25\n",
            "Month 5 : 25\n",
            "Month 6 : 33\n",
            "Month 7 : 28\n",
            "Month 8 : 31\n",
            "Month 9 : 23\n",
            "Month 10 : 11\n",
            "Month 11 : 6\n",
            "Month 12 : 6\n"
          ],
          "name": "stdout"
        }
      ]
    },
    {
      "cell_type": "markdown",
      "metadata": {
        "id": "6Xm_M6BGaHYO",
        "colab_type": "text"
      },
      "source": [
        "### Quarter"
      ]
    },
    {
      "cell_type": "code",
      "metadata": {
        "id": "YfB9v2s4aHYP",
        "colab_type": "code",
        "outputId": "56b3a1df-d112-4b8f-9a01-63f104950308",
        "colab": {}
      },
      "source": [
        "#ClassId count\n",
        "main_list = []\n",
        "for i in range(1,5):\n",
        "    sub_list = list(data[data.Quarter == i]['ClassId'].unique())\n",
        "    main_list.append(sub_list)\n",
        "\n",
        "for i in range(4):\n",
        "    print(len(main_list[i]))"
      ],
      "execution_count": 0,
      "outputs": [
        {
          "output_type": "stream",
          "text": [
            "148\n",
            "468\n",
            "497\n",
            "270\n"
          ],
          "name": "stdout"
        }
      ]
    },
    {
      "cell_type": "code",
      "metadata": {
        "id": "QC1ex9SSaHYR",
        "colab_type": "code",
        "outputId": "11ccece6-5b2e-4261-e355-e8b00de7982e",
        "colab": {}
      },
      "source": [
        "#Count of ClassIds that occur in only one period\n",
        "for i in range(4):\n",
        "    period_list = main_list[i]\n",
        "    other_period_list =[]\n",
        "    for j in range(4):\n",
        "        if i!=j:\n",
        "            other_period_list = other_period_list + main_list[j]\n",
        "    \n",
        "    other_period_list = list(set(other_period_list))\n",
        "    unique_cls_list = []\n",
        "    for cls in period_list:\n",
        "        if cls not in other_period_list:\n",
        "            unique_cls_list.append(cls)\n",
        "            \n",
        "    print('Quarter', i+1, ':', len(unique_cls_list))"
      ],
      "execution_count": 0,
      "outputs": [
        {
          "output_type": "stream",
          "text": [
            "Quarter 1 : 13\n",
            "Quarter 2 : 142\n",
            "Quarter 3 : 135\n",
            "Quarter 4 : 27\n"
          ],
          "name": "stdout"
        }
      ]
    },
    {
      "cell_type": "markdown",
      "metadata": {
        "id": "Io284D8eaHYT",
        "colab_type": "text"
      },
      "source": [
        "### Season"
      ]
    },
    {
      "cell_type": "code",
      "metadata": {
        "id": "32940Q9WaHYU",
        "colab_type": "code",
        "outputId": "2e17db75-8877-464c-eceb-a513579715bf",
        "colab": {}
      },
      "source": [
        "#ClassId count\n",
        "main_list = []\n",
        "for i in range(1,5):\n",
        "    sub_list = list(data[data.Season == i]['ClassId'].unique())\n",
        "    main_list.append(sub_list)\n",
        "\n",
        "for i in range(4):\n",
        "    print(len(main_list[i]))"
      ],
      "execution_count": 0,
      "outputs": [
        {
          "output_type": "stream",
          "text": [
            "124\n",
            "383\n",
            "521\n",
            "371\n"
          ],
          "name": "stdout"
        }
      ]
    },
    {
      "cell_type": "code",
      "metadata": {
        "id": "c0JOJIuCaHYW",
        "colab_type": "code",
        "outputId": "5548aa27-b1a2-4890-8479-f0e18344266e",
        "colab": {}
      },
      "source": [
        "#Count of ClassIds that occur in only one period\n",
        "for i in range(4):\n",
        "    period_list = main_list[i]\n",
        "    other_period_list =[]\n",
        "    for j in range(4):\n",
        "        if i!=j:\n",
        "            other_period_list = other_period_list + main_list[j]\n",
        "    \n",
        "    other_period_list = list(set(other_period_list))\n",
        "    unique_cls_list = []\n",
        "    for cls in period_list:\n",
        "        if cls not in other_period_list:\n",
        "            unique_cls_list.append(cls)\n",
        "            \n",
        "    print('Season', i+1, ':', len(unique_cls_list))"
      ],
      "execution_count": 0,
      "outputs": [
        {
          "output_type": "stream",
          "text": [
            "Season 1 : 7\n",
            "Season 2 : 96\n",
            "Season 3 : 141\n",
            "Season 4 : 53\n"
          ],
          "name": "stdout"
        }
      ]
    },
    {
      "cell_type": "markdown",
      "metadata": {
        "id": "A7xHkznPaHYZ",
        "colab_type": "text"
      },
      "source": [
        "### Half Year 1"
      ]
    },
    {
      "cell_type": "code",
      "metadata": {
        "id": "noHa8lSEaHYZ",
        "colab_type": "code",
        "outputId": "e9aa3b94-9d86-4eef-f72a-b2ce80b64517",
        "colab": {}
      },
      "source": [
        "#ClassId count\n",
        "main_list = []\n",
        "for i in range(1,3):\n",
        "    sub_list = list(data[data.Half_Year_1 == i]['ClassId'].unique())\n",
        "    main_list.append(sub_list)\n",
        "\n",
        "for i in range(2):\n",
        "    print(len(main_list[i]))"
      ],
      "execution_count": 0,
      "outputs": [
        {
          "output_type": "stream",
          "text": [
            "711\n",
            "234\n"
          ],
          "name": "stdout"
        }
      ]
    },
    {
      "cell_type": "code",
      "metadata": {
        "id": "Nn8WSbrhaHYb",
        "colab_type": "code",
        "outputId": "05e240bd-8dbe-45a3-9487-c49b870d36a9",
        "colab": {}
      },
      "source": [
        "#Count of ClassIds that occur in only one period\n",
        "for i in range(2):\n",
        "    period_list = main_list[i]\n",
        "    other_period_list =[]\n",
        "    for j in range(2):\n",
        "        if i!=j:\n",
        "            other_period_list = other_period_list + main_list[j]\n",
        "    \n",
        "    other_period_list = list(set(other_period_list))\n",
        "    unique_cls_list = []\n",
        "    for cls in period_list:\n",
        "        if cls not in other_period_list:\n",
        "            unique_cls_list.append(cls)\n",
        "            \n",
        "    print('Half_Year_1', i+1, ':', len(unique_cls_list))"
      ],
      "execution_count": 0,
      "outputs": [
        {
          "output_type": "stream",
          "text": [
            "Half_Year_1 1 : 507\n",
            "Half_Year_1 2 : 30\n"
          ],
          "name": "stdout"
        }
      ]
    },
    {
      "cell_type": "markdown",
      "metadata": {
        "id": "fpAUklgdaHYd",
        "colab_type": "text"
      },
      "source": [
        "### Half Year 2"
      ]
    },
    {
      "cell_type": "code",
      "metadata": {
        "id": "3tnJVLqGaHYe",
        "colab_type": "code",
        "outputId": "d2854027-2e13-4f48-aa1b-045660e2fe51",
        "colab": {}
      },
      "source": [
        "#ClassId count\n",
        "main_list = []\n",
        "for i in range(1,3):\n",
        "    sub_list = list(data[data.Half_Year_2 == i]['ClassId'].unique())\n",
        "    main_list.append(sub_list)\n",
        "\n",
        "for i in range(2):\n",
        "    print(len(main_list[i]))"
      ],
      "execution_count": 0,
      "outputs": [
        {
          "output_type": "stream",
          "text": [
            "661\n",
            "433\n"
          ],
          "name": "stdout"
        }
      ]
    },
    {
      "cell_type": "code",
      "metadata": {
        "id": "RQlEMAT3aHYg",
        "colab_type": "code",
        "outputId": "8533baf6-4e27-4c35-b664-eb67d8a56ad3",
        "colab": {}
      },
      "source": [
        "#Count of ClassIds that occur in only one period\n",
        "for i in range(2):\n",
        "    period_list = main_list[i]\n",
        "    other_period_list =[]\n",
        "    for j in range(2):\n",
        "        if i!=j:\n",
        "            other_period_list = other_period_list + main_list[j]\n",
        "    \n",
        "    other_period_list = list(set(other_period_list))\n",
        "    unique_cls_list = []\n",
        "    for cls in period_list:\n",
        "        if cls not in other_period_list:\n",
        "            unique_cls_list.append(cls)\n",
        "            \n",
        "    print('Half_Year_2', i+1, ':', len(unique_cls_list))"
      ],
      "execution_count": 0,
      "outputs": [
        {
          "output_type": "stream",
          "text": [
            "Half_Year_2 1 : 308\n",
            "Half_Year_2 2 : 80\n"
          ],
          "name": "stdout"
        }
      ]
    },
    {
      "cell_type": "markdown",
      "metadata": {
        "id": "iU_73Mr7aHYi",
        "colab_type": "text"
      },
      "source": [
        "# Location Clustering Test - DBSCAN"
      ]
    },
    {
      "cell_type": "markdown",
      "metadata": {
        "id": "YrWbCZVl8ViZ",
        "colab_type": "text"
      },
      "source": [
        "### Optimal Epsilon Value"
      ]
    },
    {
      "cell_type": "code",
      "metadata": {
        "colab_type": "code",
        "id": "EfbqnTKz3QYg",
        "colab": {}
      },
      "source": [
        "data2 = data[data.Latitude_1.isna() == False]"
      ],
      "execution_count": 0,
      "outputs": []
    },
    {
      "cell_type": "code",
      "metadata": {
        "colab_type": "code",
        "outputId": "315326ac-aa63-4d10-b85c-9496dd58c014",
        "id": "Ed--HLTa3QYn",
        "colab": {
          "base_uri": "https://localhost:8080/",
          "height": 628
        }
      },
      "source": [
        "#Epsilon selection for DBSCAN\n",
        "nn = 10\n",
        "knn = NearestNeighbors(n_neighbors=nn, metric = \"euclidean\")\n",
        "knn.fit(data2[['Latitude_1', 'Longitude_1']])\n",
        "distances, indices = knn.kneighbors(data2[['Latitude_1', 'Longitude_1']])\n",
        "distanceDec = sorted(distances[:,nn-1])\n",
        "\n",
        "plt.figure(figsize=(10, 10))\n",
        "plt.ylabel(\"10-NN Distance\")\n",
        "plt.xlabel(\"Points Sorted by Distance\")\n",
        "plt.axhline(y=1.5, color='r')\n",
        "plt.plot(list(range(1, len(data2)+1)), distanceDec)"
      ],
      "execution_count": 0,
      "outputs": [
        {
          "output_type": "execute_result",
          "data": {
            "text/plain": [
              "[<matplotlib.lines.Line2D at 0x7f5fd6e79320>]"
            ]
          },
          "metadata": {
            "tags": []
          },
          "execution_count": 176
        },
        {
          "output_type": "display_data",
          "data": {
            "image/png": "[encoded data removed]",
            "text/plain": [
              "<Figure size 720x720 with 1 Axes>"
            ]
          },
          "metadata": {
            "tags": []
          }
        }
      ]
    },
    {
      "cell_type": "markdown",
      "metadata": {
        "id": "KSGcKBNF8ZQ6",
        "colab_type": "text"
      },
      "source": [
        "### DBSCAN Model"
      ]
    },
    {
      "cell_type": "code",
      "metadata": {
        "colab_type": "code",
        "outputId": "af9ae411-7ca0-4082-bb40-22446054a220",
        "id": "A2QsgjOl3QYq",
        "colab": {
          "base_uri": "https://localhost:8080/",
          "height": 255
        }
      },
      "source": [
        "dbscan = DBSCAN(eps=1.5, min_samples=10).fit(data2[['Latitude_1', 'Longitude_1']])\n",
        "\n",
        "data2['location_cluster'] = dbscan.labels_\n",
        "data2['location_cluster'].value_counts()"
      ],
      "execution_count": 0,
      "outputs": [
        {
          "output_type": "execute_result",
          "data": {
            "text/plain": [
              " 0     6499\n",
              " 1      228\n",
              "-1      138\n",
              " 4       89\n",
              " 3       83\n",
              " 11      55\n",
              " 6       53\n",
              " 2       44\n",
              " 10      41\n",
              " 5       35\n",
              " 8       22\n",
              " 7       13\n",
              " 9       12\n",
              "Name: location_cluster, dtype: int64"
            ]
          },
          "metadata": {
            "tags": []
          },
          "execution_count": 177
        }
      ]
    },
    {
      "cell_type": "code",
      "metadata": {
        "id": "joMxW7OnaHY0",
        "colab_type": "code",
        "colab": {}
      },
      "source": [
        "data2['location_cluster_2'] = data2.apply(france_cluster_func, axis=1)"
      ],
      "execution_count": 0,
      "outputs": []
    },
    {
      "cell_type": "code",
      "metadata": {
        "id": "ZXoWiCMjyALV",
        "colab_type": "code",
        "outputId": "20a16292-e981-4b2c-aae5-1a0ff6511175",
        "colab": {
          "base_uri": "https://localhost:8080/",
          "height": 255
        }
      },
      "source": [
        "#DBSCAN Clusters\n",
        "main_list = []\n",
        "for i in data2['location_cluster_2'].unique():\n",
        "    sub_list = list(data2[data2.location_cluster_2 == i]['ClassId'].unique())\n",
        "    main_list.append(sub_list)\n",
        "\n",
        "for i in range(len(data2['location_cluster_2'].unique())):\n",
        "    print('Cluster', list(data2['location_cluster_2'].unique())[i], ':', len(main_list[i]))"
      ],
      "execution_count": 0,
      "outputs": [
        {
          "output_type": "stream",
          "text": [
            "Cluster 1001 : 426\n",
            "Cluster 1000 : 632\n",
            "Cluster 1 : 12\n",
            "Cluster -1 : 81\n",
            "Cluster 2 : 15\n",
            "Cluster 3 : 26\n",
            "Cluster 4 : 8\n",
            "Cluster 5 : 7\n",
            "Cluster 6 : 27\n",
            "Cluster 7 : 5\n",
            "Cluster 8 : 7\n",
            "Cluster 9 : 6\n",
            "Cluster 10 : 7\n",
            "Cluster 11 : 20\n"
          ],
          "name": "stdout"
        }
      ]
    },
    {
      "cell_type": "code",
      "metadata": {
        "id": "60jfbAJfxnqQ",
        "colab_type": "code",
        "outputId": "64bf27c0-286b-4836-bf93-e1a640ae0d2f",
        "colab": {
          "base_uri": "https://localhost:8080/",
          "height": 255
        }
      },
      "source": [
        "for i in range(len(data2['location_cluster_2'].unique())):\n",
        "    cluster_list = main_list[i]\n",
        "    other_cluster_list =[]\n",
        "    for j in range(len(data2['location_cluster_2'].unique())):\n",
        "        if i!=j:\n",
        "            other_cluster_list = other_cluster_list + main_list[j]\n",
        "\n",
        "    other_cluster_list = list(set(other_cluster_list))\n",
        "    unique_cls_list = []\n",
        "    for cls in cluster_list:\n",
        "        if cls not in other_cluster_list:\n",
        "            unique_cls_list.append(cls)\n",
        "            \n",
        "    print('Cluster', list(data2['location_cluster_2'].unique())[i], ':', len(unique_cls_list))"
      ],
      "execution_count": 0,
      "outputs": [
        {
          "output_type": "stream",
          "text": [
            "Cluster -3 : 81\n",
            "Cluster -2 : 232\n",
            "Cluster 1 : 1\n",
            "Cluster -1 : 7\n",
            "Cluster 2 : 0\n",
            "Cluster 3 : 3\n",
            "Cluster 4 : 1\n",
            "Cluster 5 : 1\n",
            "Cluster 6 : 1\n",
            "Cluster 7 : 0\n",
            "Cluster 8 : 0\n",
            "Cluster 9 : 0\n",
            "Cluster 10 : 0\n",
            "Cluster 11 : 0\n"
          ],
          "name": "stdout"
        }
      ]
    },
    {
      "cell_type": "markdown",
      "metadata": {
        "id": "cVJoGc-v7yNp",
        "colab_type": "text"
      },
      "source": [
        "### Location Cluster Prediction with known Latitude & Longitude information"
      ]
    },
    {
      "cell_type": "markdown",
      "metadata": {
        "colab_type": "text",
        "id": "UbApdGlV5p6Q"
      },
      "source": [
        "#### Logistic Regression"
      ]
    },
    {
      "cell_type": "code",
      "metadata": {
        "colab_type": "code",
        "id": "Pa3cAcYA5p6S",
        "colab": {}
      },
      "source": [
        "data2['location_cluster_2'] = pd.Categorical(data2['location_cluster_2'])"
      ],
      "execution_count": 0,
      "outputs": []
    },
    {
      "cell_type": "code",
      "metadata": {
        "colab_type": "code",
        "outputId": "b0259e49-96dc-40e3-cadb-e611925efb3d",
        "id": "IIK9sjFI5p6X",
        "colab": {
          "base_uri": "https://localhost:8080/",
          "height": 34
        }
      },
      "source": [
        "lg = LogisticRegression()\n",
        "print(cross_val_score(lg, data2[['Latitude_1', 'Longitude_1']], data2['location_cluster_2'], cv=5, scoring='accuracy'))  "
      ],
      "execution_count": 0,
      "outputs": [
        {
          "output_type": "stream",
          "text": [
            "[0.85753238 0.86766712 0.88456284 0.86908842 0.86813187]\n"
          ],
          "name": "stdout"
        }
      ]
    },
    {
      "cell_type": "markdown",
      "metadata": {
        "colab_type": "text",
        "id": "9SWSmusX69PD"
      },
      "source": [
        "#### KNN"
      ]
    },
    {
      "cell_type": "code",
      "metadata": {
        "colab_type": "code",
        "outputId": "ff50b826-76cd-4f64-a733-a82de84e9ea8",
        "id": "kCDOQIfn69PH",
        "colab": {
          "base_uri": "https://localhost:8080/",
          "height": 323
        }
      },
      "source": [
        "pipeline = Pipeline(\n",
        "    [\n",
        "        (\"scaler\", MinMaxScaler((0, 1))),\n",
        "        (\"classifier\", KNeighborsClassifier())\n",
        "    ]\n",
        ")\n",
        "\n",
        "parameters = {\n",
        "    \"classifier__n_neighbors\": [1, 3, 5, 7]\n",
        "}\n",
        "\n",
        "grid_search = GridSearchCV(pipeline, param_grid=parameters, scoring = 'accuracy', cv=5)\n",
        "grid_search.fit(data2[['Latitude_1', 'Longitude_1']], data2['location_cluster_2'])"
      ],
      "execution_count": 0,
      "outputs": [
        {
          "output_type": "execute_result",
          "data": {
            "text/plain": [
              "GridSearchCV(cv=5, error_score='raise-deprecating',\n",
              "             estimator=Pipeline(memory=None,\n",
              "                                steps=[('scaler',\n",
              "                                        MinMaxScaler(copy=True,\n",
              "                                                     feature_range=(0, 1))),\n",
              "                                       ('classifier',\n",
              "                                        KNeighborsClassifier(algorithm='auto',\n",
              "                                                             leaf_size=30,\n",
              "                                                             metric='minkowski',\n",
              "                                                             metric_params=None,\n",
              "                                                             n_jobs=None,\n",
              "                                                             n_neighbors=5, p=2,\n",
              "                                                             weights='uniform'))],\n",
              "                                verbose=False),\n",
              "             iid='warn', n_jobs=None,\n",
              "             param_grid={'classifier__n_neighbors': [1, 3, 5, 7]},\n",
              "             pre_dispatch='2*n_jobs', refit=True, return_train_score=False,\n",
              "             scoring='accuracy', verbose=0)"
            ]
          },
          "metadata": {
            "tags": []
          },
          "execution_count": 186
        }
      ]
    },
    {
      "cell_type": "code",
      "metadata": {
        "colab_type": "code",
        "outputId": "8561c461-969a-4e8e-96bd-031893c4d56d",
        "id": "MvcONf-r69PK",
        "colab": {
          "base_uri": "https://localhost:8080/",
          "height": 51
        }
      },
      "source": [
        "print(grid_search.best_params_)\n",
        "print(grid_search.best_score_)"
      ],
      "execution_count": 0,
      "outputs": [
        {
          "output_type": "stream",
          "text": [
            "{'classifier__n_neighbors': 1}\n",
            "0.999042669584245\n"
          ],
          "name": "stdout"
        }
      ]
    },
    {
      "cell_type": "markdown",
      "metadata": {
        "id": "KQByTONd8cJz",
        "colab_type": "text"
      },
      "source": [
        "# Imputation Model Tests"
      ]
    },
    {
      "cell_type": "markdown",
      "metadata": {
        "colab_type": "text",
        "id": "LL2cSXchaeyz"
      },
      "source": [
        "### Prediction Model Tests for Missing Location Values"
      ]
    },
    {
      "cell_type": "markdown",
      "metadata": {
        "colab_type": "text",
        "id": "8wI0oSY0aey1"
      },
      "source": [
        "#### Logistic Regression"
      ]
    },
    {
      "cell_type": "code",
      "metadata": {
        "colab_type": "code",
        "id": "AZ9HYKXpaey2",
        "colab": {}
      },
      "source": [
        "data2['location_cluster_2'] = pd.Categorical(data2['location_cluster_2'])"
      ],
      "execution_count": 0,
      "outputs": []
    },
    {
      "cell_type": "code",
      "metadata": {
        "id": "qOVt4Xhma-Wy",
        "colab_type": "code",
        "outputId": "5665c8b9-04d6-4a43-8830-a6b120e0dc44",
        "colab": {
          "base_uri": "https://localhost:8080/",
          "height": 34
        }
      },
      "source": [
        "lg = LogisticRegression()\n",
        "print(cross_val_score(lg, data2.iloc[:,:1024], data2['location_cluster_2'], cv=5, scoring='accuracy'))  "
      ],
      "execution_count": 0,
      "outputs": [
        {
          "output_type": "stream",
          "text": [
            "[0.67075665 0.70463847 0.67964481 0.66895134 0.68200549]\n"
          ],
          "name": "stdout"
        }
      ]
    },
    {
      "cell_type": "markdown",
      "metadata": {
        "id": "CEAwLrAYfGwQ",
        "colab_type": "text"
      },
      "source": [
        "#### KNN"
      ]
    },
    {
      "cell_type": "code",
      "metadata": {
        "colab_type": "code",
        "outputId": "8cffb488-c5e4-4471-b5a0-5ad1835cb725",
        "id": "2ljiNJvSaey5",
        "colab": {
          "base_uri": "https://localhost:8080/",
          "height": 323
        }
      },
      "source": [
        "pipeline = Pipeline(\n",
        "    [\n",
        "        (\"scaler\", MinMaxScaler((0, 1))),\n",
        "        (\"classifier\", KNeighborsClassifier())\n",
        "    ]\n",
        ")\n",
        "\n",
        "parameters = {\n",
        "    \"classifier__n_neighbors\": [3, 5, 7]\n",
        "}\n",
        "\n",
        "grid_search = GridSearchCV(pipeline, param_grid=parameters, scoring = 'accuracy', cv=5)\n",
        "grid_search.fit(data2.iloc[:,:1024], data2['location_cluster_2'])"
      ],
      "execution_count": 0,
      "outputs": [
        {
          "output_type": "execute_result",
          "data": {
            "text/plain": [
              "GridSearchCV(cv=5, error_score='raise-deprecating',\n",
              "             estimator=Pipeline(memory=None,\n",
              "                                steps=[('scaler',\n",
              "                                        MinMaxScaler(copy=True,\n",
              "                                                     feature_range=(0, 1))),\n",
              "                                       ('classifier',\n",
              "                                        KNeighborsClassifier(algorithm='auto',\n",
              "                                                             leaf_size=30,\n",
              "                                                             metric='minkowski',\n",
              "                                                             metric_params=None,\n",
              "                                                             n_jobs=None,\n",
              "                                                             n_neighbors=5, p=2,\n",
              "                                                             weights='uniform'))],\n",
              "                                verbose=False),\n",
              "             iid='warn', n_jobs=None,\n",
              "             param_grid={'classifier__n_neighbors': [3, 5, 7]},\n",
              "             pre_dispatch='2*n_jobs', refit=True, return_train_score=False,\n",
              "             scoring='accuracy', verbose=0)"
            ]
          },
          "metadata": {
            "tags": []
          },
          "execution_count": 36
        }
      ]
    },
    {
      "cell_type": "code",
      "metadata": {
        "colab_type": "code",
        "outputId": "8a5ee81b-2fdb-4453-ef31-69d8098b9be3",
        "id": "ywHHMuTSaey7",
        "colab": {
          "base_uri": "https://localhost:8080/",
          "height": 51
        }
      },
      "source": [
        "print(grid_search.best_params_)\n",
        "print(grid_search.best_score_)"
      ],
      "execution_count": 0,
      "outputs": [
        {
          "output_type": "stream",
          "text": [
            "{'classifier__n_neighbors': 3}\n",
            "0.7357768052516411\n"
          ],
          "name": "stdout"
        }
      ]
    },
    {
      "cell_type": "markdown",
      "metadata": {
        "colab_type": "text",
        "id": "tBj_CP-iaey9"
      },
      "source": [
        "#### Random Forest"
      ]
    },
    {
      "cell_type": "code",
      "metadata": {
        "colab_type": "code",
        "outputId": "44df3779-4334-4b07-c53b-e603a4554c70",
        "id": "uuGEMK7uaey-",
        "colab": {
          "base_uri": "https://localhost:8080/",
          "height": 510
        }
      },
      "source": [
        "pipeline = Pipeline(\n",
        "    [\n",
        "        (\"scaler\", MinMaxScaler((0, 1))),\n",
        "        (\"classifier\", RandomForestClassifier())\n",
        "    ]\n",
        ")\n",
        "\n",
        "parameters = {\n",
        "    \"classifier__max_depth\": [2, 3, 5],\n",
        "    \"classifier__n_estimators\": [25, 50, 100]\n",
        "}\n",
        "\n",
        "grid_search = GridSearchCV(pipeline, param_grid=parameters, scoring = 'accuracy', cv=5)\n",
        "grid_search.fit(data2.iloc[:,:1024], data2['location_cluster_2'])"
      ],
      "execution_count": 0,
      "outputs": [
        {
          "output_type": "execute_result",
          "data": {
            "text/plain": [
              "GridSearchCV(cv=5, error_score='raise-deprecating',\n",
              "             estimator=Pipeline(memory=None,\n",
              "                                steps=[('scaler',\n",
              "                                        MinMaxScaler(copy=True,\n",
              "                                                     feature_range=(0, 1))),\n",
              "                                       ('classifier',\n",
              "                                        RandomForestClassifier(bootstrap=True,\n",
              "                                                               class_weight=None,\n",
              "                                                               criterion='gini',\n",
              "                                                               max_depth=None,\n",
              "                                                               max_features='auto',\n",
              "                                                               max_leaf_nodes=None,\n",
              "                                                               min_impurity_decrease=0.0,\n",
              "                                                               min_impurity_split=None,\n",
              "                                                               min_samples_lea...\n",
              "                                                               min_samples_split=2,\n",
              "                                                               min_weight_fraction_leaf=0.0,\n",
              "                                                               n_estimators='warn',\n",
              "                                                               n_jobs=None,\n",
              "                                                               oob_score=False,\n",
              "                                                               random_state=None,\n",
              "                                                               verbose=0,\n",
              "                                                               warm_start=False))],\n",
              "                                verbose=False),\n",
              "             iid='warn', n_jobs=None,\n",
              "             param_grid={'classifier__max_depth': [2, 3, 5],\n",
              "                         'classifier__n_estimators': [25, 50, 100]},\n",
              "             pre_dispatch='2*n_jobs', refit=True, return_train_score=False,\n",
              "             scoring='accuracy', verbose=0)"
            ]
          },
          "metadata": {
            "tags": []
          },
          "execution_count": 40
        }
      ]
    },
    {
      "cell_type": "code",
      "metadata": {
        "colab_type": "code",
        "outputId": "ceda0630-0fa3-4a6f-d29b-d162b1477716",
        "id": "a7hiuGwMaezB",
        "colab": {
          "base_uri": "https://localhost:8080/",
          "height": 51
        }
      },
      "source": [
        "print(grid_search.best_params_)\n",
        "print(grid_search.best_score_)"
      ],
      "execution_count": 0,
      "outputs": [
        {
          "output_type": "stream",
          "text": [
            "{'classifier__max_depth': 5, 'classifier__n_estimators': 25}\n",
            "0.6237691466083151\n"
          ],
          "name": "stdout"
        }
      ]
    },
    {
      "cell_type": "markdown",
      "metadata": {
        "colab_type": "text",
        "id": "hlXS2f_r3Ujp"
      },
      "source": [
        "### Prediction Model Tests for Missing Month Values"
      ]
    },
    {
      "cell_type": "code",
      "metadata": {
        "id": "X4NdaSpj4Rpv",
        "colab_type": "code",
        "colab": {}
      },
      "source": [
        "data2 = data2[data2.Month.isna() == False]"
      ],
      "execution_count": 0,
      "outputs": []
    },
    {
      "cell_type": "code",
      "metadata": {
        "colab_type": "code",
        "id": "AdVLL4yL3Ujw",
        "colab": {}
      },
      "source": [
        "data2['Month'] = pd.Categorical(data2['Month'])"
      ],
      "execution_count": 0,
      "outputs": []
    },
    {
      "cell_type": "markdown",
      "metadata": {
        "colab_type": "text",
        "id": "ECz7s7pq3Uju"
      },
      "source": [
        "#### KNN"
      ]
    },
    {
      "cell_type": "code",
      "metadata": {
        "colab_type": "code",
        "id": "93kysZc73Uj6",
        "outputId": "74ea0a19-eab6-4f43-ff52-b7c829b9e1ff",
        "colab": {
          "base_uri": "https://localhost:8080/",
          "height": 323
        }
      },
      "source": [
        "pipeline = Pipeline(\n",
        "    [\n",
        "        (\"scaler\", MinMaxScaler((0, 1))),\n",
        "        (\"classifier\", KNeighborsClassifier())\n",
        "    ]\n",
        ")\n",
        "\n",
        "parameters = {\n",
        "    \"classifier__n_neighbors\": [3, 5, 7]\n",
        "}\n",
        "\n",
        "grid_search = GridSearchCV(pipeline, param_grid=parameters, scoring = 'accuracy', cv=5)\n",
        "grid_search.fit(data2.iloc[:,:1024], data2['Month'])"
      ],
      "execution_count": 0,
      "outputs": [
        {
          "output_type": "execute_result",
          "data": {
            "text/plain": [
              "GridSearchCV(cv=5, error_score='raise-deprecating',\n",
              "             estimator=Pipeline(memory=None,\n",
              "                                steps=[('scaler',\n",
              "                                        MinMaxScaler(copy=True,\n",
              "                                                     feature_range=(0, 1))),\n",
              "                                       ('classifier',\n",
              "                                        KNeighborsClassifier(algorithm='auto',\n",
              "                                                             leaf_size=30,\n",
              "                                                             metric='minkowski',\n",
              "                                                             metric_params=None,\n",
              "                                                             n_jobs=None,\n",
              "                                                             n_neighbors=5, p=2,\n",
              "                                                             weights='uniform'))],\n",
              "                                verbose=False),\n",
              "             iid='warn', n_jobs=None,\n",
              "             param_grid={'classifier__n_neighbors': [3, 5, 7]},\n",
              "             pre_dispatch='2*n_jobs', refit=True, return_train_score=False,\n",
              "             scoring='accuracy', verbose=0)"
            ]
          },
          "metadata": {
            "tags": []
          },
          "execution_count": 44
        }
      ]
    },
    {
      "cell_type": "code",
      "metadata": {
        "colab_type": "code",
        "id": "GEOpVm0T3Uj9",
        "outputId": "832d9e61-af46-4351-d6e4-e24399dc80dd",
        "colab": {
          "base_uri": "https://localhost:8080/",
          "height": 51
        }
      },
      "source": [
        "print(grid_search.best_params_)\n",
        "print(grid_search.best_score_)"
      ],
      "execution_count": 0,
      "outputs": [
        {
          "output_type": "stream",
          "text": [
            "{'classifier__n_neighbors': 3}\n",
            "0.5156486970908589\n"
          ],
          "name": "stdout"
        }
      ]
    },
    {
      "cell_type": "markdown",
      "metadata": {
        "colab_type": "text",
        "id": "W1C3CiXX3UkA"
      },
      "source": [
        "#### Random Forest"
      ]
    },
    {
      "cell_type": "code",
      "metadata": {
        "colab_type": "code",
        "id": "6hESjcOL3UkB",
        "colab": {}
      },
      "source": [
        "pipeline = Pipeline(\n",
        "    [\n",
        "        (\"scaler\", MinMaxScaler((0, 1))),\n",
        "        (\"classifier\", RandomForestClassifier())\n",
        "    ]\n",
        ")\n",
        "\n",
        "parameters = {\n",
        "    \"classifier__max_depth\": [3, 5],\n",
        "    \"classifier__n_estimators\": [50, 100]\n",
        "}\n",
        "\n",
        "grid_search = GridSearchCV(pipeline, param_grid=parameters, scoring = 'accuracy', cv=5)\n",
        "grid_search.fit(data2.iloc[:,:1024], data2['Month'])"
      ],
      "execution_count": 0,
      "outputs": []
    },
    {
      "cell_type": "code",
      "metadata": {
        "colab_type": "code",
        "id": "0t74dilV3UkF",
        "colab": {}
      },
      "source": [
        "print(grid_search.best_params_)\n",
        "print(grid_search.best_score_)"
      ],
      "execution_count": 0,
      "outputs": []
    },
    {
      "cell_type": "markdown",
      "metadata": {
        "colab_type": "text",
        "id": "Nxu6xQya3-Og"
      },
      "source": [
        "### Prediction Model Tests for Missing Season Values"
      ]
    },
    {
      "cell_type": "markdown",
      "metadata": {
        "colab_type": "text",
        "id": "HkAjfbyS3-Oh"
      },
      "source": [
        "#### KNN"
      ]
    },
    {
      "cell_type": "code",
      "metadata": {
        "colab_type": "code",
        "id": "XYSkU4T23-Oh",
        "colab": {}
      },
      "source": [
        "data2['Season'] = pd.Categorical(data2['Season'])"
      ],
      "execution_count": 0,
      "outputs": []
    },
    {
      "cell_type": "code",
      "metadata": {
        "colab_type": "code",
        "id": "_0htDMyp3-Ok",
        "outputId": "19b159cb-698c-4e7b-b790-20a4b41a4d61",
        "colab": {
          "base_uri": "https://localhost:8080/",
          "height": 323
        }
      },
      "source": [
        "pipeline = Pipeline(\n",
        "    [\n",
        "        (\"scaler\", MinMaxScaler((0, 1))),\n",
        "        (\"classifier\", KNeighborsClassifier())\n",
        "    ]\n",
        ")\n",
        "\n",
        "parameters = {\n",
        "    \"classifier__n_neighbors\": [3, 5, 7]\n",
        "}\n",
        "\n",
        "grid_search = GridSearchCV(pipeline, param_grid=parameters, scoring = 'accuracy', cv=5)\n",
        "grid_search.fit(data2.iloc[:,:1024], data2['Season'])"
      ],
      "execution_count": 0,
      "outputs": [
        {
          "output_type": "execute_result",
          "data": {
            "text/plain": [
              "GridSearchCV(cv=5, error_score='raise-deprecating',\n",
              "             estimator=Pipeline(memory=None,\n",
              "                                steps=[('scaler',\n",
              "                                        MinMaxScaler(copy=True,\n",
              "                                                     feature_range=(0, 1))),\n",
              "                                       ('classifier',\n",
              "                                        KNeighborsClassifier(algorithm='auto',\n",
              "                                                             leaf_size=30,\n",
              "                                                             metric='minkowski',\n",
              "                                                             metric_params=None,\n",
              "                                                             n_jobs=None,\n",
              "                                                             n_neighbors=5, p=2,\n",
              "                                                             weights='uniform'))],\n",
              "                                verbose=False),\n",
              "             iid='warn', n_jobs=None,\n",
              "             param_grid={'classifier__n_neighbors': [3, 5, 7]},\n",
              "             pre_dispatch='2*n_jobs', refit=True, return_train_score=False,\n",
              "             scoring='accuracy', verbose=0)"
            ]
          },
          "metadata": {
            "tags": []
          },
          "execution_count": 23
        }
      ]
    },
    {
      "cell_type": "code",
      "metadata": {
        "colab_type": "code",
        "id": "Mo0HjScK3-Om",
        "outputId": "f7ee5244-9794-4715-d4f4-dfe6187a69dc",
        "colab": {
          "base_uri": "https://localhost:8080/",
          "height": 51
        }
      },
      "source": [
        "print(grid_search.best_params_)\n",
        "print(grid_search.best_score_)"
      ],
      "execution_count": 0,
      "outputs": [
        {
          "output_type": "stream",
          "text": [
            "{'classifier__n_neighbors': 3}\n",
            "0.6765476354611885\n"
          ],
          "name": "stdout"
        }
      ]
    },
    {
      "cell_type": "markdown",
      "metadata": {
        "colab_type": "text",
        "id": "ap9gaWr63-Oo"
      },
      "source": [
        "#### Random Forest"
      ]
    },
    {
      "cell_type": "code",
      "metadata": {
        "colab_type": "code",
        "id": "DRe9CMVS3-Op",
        "outputId": "9dd7e973-c6d9-4e50-86c1-b58608fd42df",
        "colab": {
          "base_uri": "https://localhost:8080/",
          "height": 510
        }
      },
      "source": [
        "pipeline = Pipeline(\n",
        "    [\n",
        "        (\"scaler\", MinMaxScaler((0, 1))),\n",
        "        (\"classifier\", RandomForestClassifier())\n",
        "    ]\n",
        ")\n",
        "\n",
        "parameters = {\n",
        "    \"classifier__max_depth\": [3, 5],\n",
        "    \"classifier__n_estimators\": [50, 100]\n",
        "}\n",
        "\n",
        "grid_search = GridSearchCV(pipeline, param_grid=parameters, scoring = 'accuracy', cv=5)\n",
        "grid_search.fit(data2.iloc[:,:1024], data2['Season'])"
      ],
      "execution_count": 0,
      "outputs": [
        {
          "output_type": "execute_result",
          "data": {
            "text/plain": [
              "GridSearchCV(cv=5, error_score='raise-deprecating',\n",
              "             estimator=Pipeline(memory=None,\n",
              "                                steps=[('scaler',\n",
              "                                        MinMaxScaler(copy=True,\n",
              "                                                     feature_range=(0, 1))),\n",
              "                                       ('classifier',\n",
              "                                        RandomForestClassifier(bootstrap=True,\n",
              "                                                               class_weight=None,\n",
              "                                                               criterion='gini',\n",
              "                                                               max_depth=None,\n",
              "                                                               max_features='auto',\n",
              "                                                               max_leaf_nodes=None,\n",
              "                                                               min_impurity_decrease=0.0,\n",
              "                                                               min_impurity_split=None,\n",
              "                                                               min_samples_lea...\n",
              "                                                               min_samples_split=2,\n",
              "                                                               min_weight_fraction_leaf=0.0,\n",
              "                                                               n_estimators='warn',\n",
              "                                                               n_jobs=None,\n",
              "                                                               oob_score=False,\n",
              "                                                               random_state=None,\n",
              "                                                               verbose=0,\n",
              "                                                               warm_start=False))],\n",
              "                                verbose=False),\n",
              "             iid='warn', n_jobs=None,\n",
              "             param_grid={'classifier__max_depth': [3, 5],\n",
              "                         'classifier__n_estimators': [50, 100]},\n",
              "             pre_dispatch='2*n_jobs', refit=True, return_train_score=False,\n",
              "             scoring='accuracy', verbose=0)"
            ]
          },
          "metadata": {
            "tags": []
          },
          "execution_count": 25
        }
      ]
    },
    {
      "cell_type": "code",
      "metadata": {
        "colab_type": "code",
        "id": "ybJq7Sg23-Ou",
        "outputId": "f2e7f9df-1d1f-4db1-ff03-6c9b34c6821d",
        "colab": {
          "base_uri": "https://localhost:8080/",
          "height": 51
        }
      },
      "source": [
        "print(grid_search.best_params_)\n",
        "print(grid_search.best_score_)"
      ],
      "execution_count": 0,
      "outputs": [
        {
          "output_type": "stream",
          "text": [
            "{'classifier__max_depth': 5, 'classifier__n_estimators': 100}\n",
            "0.4912450020681097\n"
          ],
          "name": "stdout"
        }
      ]
    },
    {
      "cell_type": "markdown",
      "metadata": {
        "id": "WU3gqpMgex4r",
        "colab_type": "text"
      },
      "source": [
        "# Training Test Split"
      ]
    },
    {
      "cell_type": "code",
      "metadata": {
        "colab_type": "code",
        "id": "MIPdiHyEYrTb",
        "colab": {}
      },
      "source": [
        "data2 = data.drop(['Date', 'Location', 'Latitude', 'Longitude', 'Year', 'Quarter', 'Season', 'Half_Year_1', 'Half_Year_2'], axis=1)\n",
        "data2['Month'] = pd.Categorical(data2['Month'])"
      ],
      "execution_count": 0,
      "outputs": []
    },
    {
      "cell_type": "code",
      "metadata": {
        "colab_type": "code",
        "id": "FL5gfJo_YrUI",
        "colab": {}
      },
      "source": [
        "exclude_list = list(data2.ClassId.value_counts()[data2.ClassId.value_counts() <= 2].index)"
      ],
      "execution_count": 0,
      "outputs": []
    },
    {
      "cell_type": "code",
      "metadata": {
        "colab_type": "code",
        "id": "S_tLeH6FYrVA",
        "colab": {}
      },
      "source": [
        "data3 = data2[data2.ClassId.isin(exclude_list) == False]\n",
        "data4 = data2[data2.ClassId.isin(exclude_list)]"
      ],
      "execution_count": 0,
      "outputs": []
    },
    {
      "cell_type": "code",
      "metadata": {
        "colab_type": "code",
        "id": "juXk6jC4YrVZ",
        "colab": {}
      },
      "source": [
        "X_train, X_test, y_train, y_test = train_test_split(data3.drop('ClassId', axis=1), data3.ClassId, test_size=0.20, random_state=23, shuffle=True, stratify=data3.ClassId)"
      ],
      "execution_count": 0,
      "outputs": []
    },
    {
      "cell_type": "markdown",
      "metadata": {
        "id": "52-BUDl1e1mS",
        "colab_type": "text"
      },
      "source": [
        "# Model Training - ANN"
      ]
    },
    {
      "cell_type": "markdown",
      "metadata": {
        "id": "0aR7TCQzmi0u",
        "colab_type": "text"
      },
      "source": [
        "### Preprocessing of Training and Validation Sets with StratifiedKFold"
      ]
    },
    {
      "cell_type": "code",
      "metadata": {
        "id": "yYPg9jnQe-iK",
        "colab_type": "code",
        "colab": {}
      },
      "source": [
        "start_time = time.time()\n",
        "s_k_fold = StratifiedKFold(n_splits = 5)\n",
        "\n",
        "dataset_dict = {}\n",
        "count=0\n",
        "for train_index, test_index in s_k_fold.split(X_train, y_train):\n",
        "  count+=1\n",
        "\n",
        "  #Train & Validation split by StratifiedKFold\n",
        "  X_train_fold = X_train.iloc[train_index]\n",
        "  y_train_fold = y_train.iloc[train_index]\n",
        "\n",
        "  X_test_fold = X_train.iloc[test_index]\n",
        "  y_test_fold = y_train.iloc[test_index]\n",
        "\n",
        "  X_train_fold = pd.concat([X_train_fold, data4.drop('ClassId', axis=1)], axis=0)\n",
        "  y_train_fold = pd.concat([y_train_fold, data4.ClassId], axis=0)\n",
        "\n",
        "\n",
        "  #Location Clustering\n",
        "  X_train_fold2 = X_train_fold[X_train_fold.Latitude_1.isna() == False]\n",
        "\n",
        "  dbscan = DBSCAN(eps=1.5, min_samples=10).fit(X_train_fold2[['Latitude_1', 'Longitude_1']])\n",
        "  X_train_fold2['location_cluster'] = dbscan.labels_\n",
        "  X_train_fold2['location_cluster_2'] = X_train_fold2.apply(france_cluster_func, axis=1)\n",
        "  X_train_fold2['location_cluster_2'].replace(-1,1002, inplace=True)\n",
        "\n",
        "  X_train_fold = X_train_fold.drop(['Latitude_1', 'Longitude_1'], axis=1).join(X_train_fold2[['location_cluster_2']], how='left')\n",
        "\n",
        "\n",
        "  #MultipleImputer with Logistic Regression\n",
        "  X_train_fold['Month'] = pd.Categorical(X_train_fold['Month'])\n",
        "  X_train_fold['location_cluster_2'] = pd.Categorical(X_train_fold['location_cluster_2'])\n",
        "\n",
        "  imputer = MultipleImputer(\n",
        "      n=1,\n",
        "      strategy={\"Month\": \"multinomial logistic\", \"location_cluster_2\": \"multinomial logistic\"},\n",
        "      predictors={\"Month\": \"all\", \"location_cluster_2\": \"all\"},\n",
        "      return_list=True\n",
        "  )\n",
        "\n",
        "  X_train_imputed = imputer.fit_transform(X_train_fold)[0][1]\n",
        "\n",
        "\n",
        "  #One Hot Encoder\n",
        "  enc = OneHotEncoder(handle_unknown='ignore', categorical_features=[1024,1025], sparse=False)\n",
        "  X_train_enc = enc.fit_transform(X_train_imputed)\n",
        "\n",
        "\n",
        "  #Normalization\n",
        "  sc = MinMaxScaler((0,1))\n",
        "  X_train_sc = sc.fit_transform(X_train_enc)\n",
        "\n",
        "\n",
        "  #Oversampling\n",
        "  ovsamp = RandomOverSampler(random_state=23)\n",
        "  X_train_res, y_train_res = ovsamp.fit_resample(X_train_sc, y_train_fold)\n",
        "\n",
        "\n",
        "  #Validation Set Preprocessing\n",
        "  knn = KNeighborsClassifier(n_neighbors=1) #Location Cluster Prediction for samples with latitude & longitude values\n",
        "  knn.fit(X_train_fold2[['Latitude_1', 'Longitude_1']], X_train_fold2['location_cluster_2'])\n",
        "  X_test_fold2 = X_test_fold[X_test_fold.Latitude_1.isna() == False]\n",
        "  X_test_fold2['location_cluster'] = knn.predict(X_test_fold2[['Latitude_1', 'Longitude_1']])\n",
        "  X_test_fold2['location_cluster_2'] = X_test_fold2.apply(france_cluster_func, axis=1)\n",
        "  X_test_fold = X_test_fold.drop(['Latitude_1', 'Longitude_1'], axis=1).join(X_test_fold2[['location_cluster_2']], how='left')\n",
        "\n",
        "  X_test_fold['Month'] = pd.Categorical(X_test_fold['Month']) #Imputation\n",
        "  X_test_fold['location_cluster_2'] = pd.Categorical(X_test_fold['location_cluster_2'])\n",
        "  X_test_imputed = imputer.transform(X_test_fold)[0][1]\n",
        "\n",
        "  X_test_enc = enc.transform(X_test_imputed) #One Hot Encoding\n",
        "\n",
        "  X_test_sc = sc.transform(X_test_enc) #Normalization\n",
        "\n",
        "  #Label Preprocessing for Keras\n",
        "  lenc = LabelEncoder()\n",
        "  lenc.fit(y_train_res)\n",
        "  y_train_lenc = lenc.transform(y_train_res)\n",
        "  #y_train_lenc = np_utils.to_categorical(y_train_lenc, num_classes=755)\n",
        "  y_test_lenc = lenc.transform(y_test_fold)\n",
        "  #y_test_lenc = np_utils.to_categorical(y_test_lenc, num_classes=755)\n",
        "\n",
        "  dataset_dict['X_traning_'+str(count)] = X_train_res\n",
        "  dataset_dict['y_traning_'+str(count)] = y_train_lenc\n",
        "  dataset_dict['X_valid_'+str(count)] = X_test_sc\n",
        "  dataset_dict['y_valid_'+str(count)] = y_test_lenc\n",
        "\n",
        "  print(count)\n",
        "print(time.time() - start_time)"
      ],
      "execution_count": 0,
      "outputs": []
    },
    {
      "cell_type": "markdown",
      "metadata": {
        "id": "rDrm49wSnSmG",
        "colab_type": "text"
      },
      "source": [
        "### Cross Validation & Hyperparameter Tuning"
      ]
    },
    {
      "cell_type": "code",
      "metadata": {
        "id": "GYTRom0zfBWr",
        "colab_type": "code",
        "colab": {}
      },
      "source": [
        "# hidden layer size, kernel regularization, dropout\n",
        "valid_result_df = pd.DataFrame(columns=['optimizer','learning_rate','batch_size','epoch','hidden_layers', 'regularization', 'dropout_rate', 'valid_acc_score'])\n",
        "n_batch_size = 32\n",
        "n_epochs = 500\n",
        "count = 0\n",
        "start_time = time.time()\n",
        "for layer in [(),128, 512, 800, 900, 1024, 1450, 2048]:\n",
        "  for lr in [0.01, 0.001]:\n",
        "    for reg in [0, 0.01, 0.001]:\n",
        "      for drop in [0, 0.2, 0.5]:\n",
        "        count += 1\n",
        "        acc_scores = []\n",
        "        for cv_set in range(1,6):\n",
        "          X_train_cv = dataset_dict['X_traning_'+str(cv_set)]\n",
        "          y_train_cv = dataset_dict['y_traning_'+str(cv_set)]\n",
        "          X_valid_cv = dataset_dict['X_valid_'+str(cv_set)]\n",
        "          y_valid_cv = dataset_dict['y_valid_'+str(cv_set)]\n",
        "\n",
        "          #Model\n",
        "          K.clear_session()\n",
        "          model = Sequential()\n",
        "\n",
        "          if layer == ():\n",
        "            model.add(Dense(len(set(y_train_cv)), kernel_initializer = 'uniform', activation='softmax', input_dim = len(X_train_cv[0])))\n",
        "          else:\n",
        "            if reg != 0:\n",
        "              model.add(Dense(units = layer, kernel_initializer = 'uniform', activation = 'relu', input_dim = len(X_train_cv[0]), kernel_regularizer=regularizers.l2(reg)))\n",
        "              model.add(Dropout(drop))\n",
        "            else:\n",
        "              model.add(Dense(units = layer, kernel_initializer = 'uniform', activation = 'relu', input_dim = len(X_train_cv[0])))\n",
        "              model.add(Dropout(drop))\n",
        "\n",
        "            model.add(Dense(len(set(y_train_cv)), activation='softmax'))\n",
        "\n",
        "          optimizer = optimizers.Adam(lr=lr, beta_1=0.9, beta_2=0.999, amsgrad=False)\n",
        "          model.compile(optimizer = optimizer, loss = 'categorical_crossentropy', metrics = ['accuracy'])\n",
        "\n",
        "          y_train_cv2 = np_utils.to_categorical(y_train_cv, num_classes=755)\n",
        "          y_valid_cv2 = np_utils.to_categorical(y_valid_cv, num_classes=755)\n",
        "\n",
        "          es = EarlyStopping(monitor='val_acc', verbose=0, patience=5,  min_delta=1)\n",
        "          model.fit(X_train_cv, y_train_cv2, batch_size = n_batch_size, epochs = n_epochs, validation_data=(X_valid_cv,y_valid_cv2), verbose = 0, callbacks=[es])\n",
        "\n",
        "          y_pred = model.predict_classes(X_valid_cv)\n",
        "          model_score_test = accuracy_score(y_valid_cv, y_pred)\n",
        "          acc_scores.append(model_score_test)\n",
        "\n",
        "        valid_result_df.loc[len(valid_result_df)] = ['adam', lr, n_batch_size, n_epochs,layer, reg, drop, np.mean(acc_scores)]\n",
        "\n",
        "        print(count)\n",
        "        if count % 10 == 0:\n",
        "\n",
        "          print(time.time() - start_time)\n",
        "          print(valid_result_df[['learning_rate','hidden_layers', 'regularization', 'dropout_rate', 'valid_acc_score']].sort_values('valid_acc_score', ascending=False).head(5))\n"
      ],
      "execution_count": 0,
      "outputs": []
    },
    {
      "cell_type": "code",
      "metadata": {
        "id": "Vg-zQtevmdt6",
        "colab_type": "code",
        "colab": {}
      },
      "source": [
        "pd.options.display.float_format = '{:,.3f}'.format\n",
        "valid_result_df.sort_values('valid_acc_score', ascending=False).head(5)"
      ],
      "execution_count": 0,
      "outputs": []
    },
    {
      "cell_type": "markdown",
      "metadata": {
        "id": "sDQfV1eGnn3p",
        "colab_type": "text"
      },
      "source": [
        "### Final Test on Test Data"
      ]
    },
    {
      "cell_type": "code",
      "metadata": {
        "id": "WhoOU9G_nsM5",
        "colab_type": "code",
        "colab": {}
      },
      "source": [
        "X_train = pd.concat([X_train, data4.drop('ClassId', axis=1)], axis=0)\n",
        "y_train = pd.concat([y_train, data4.ClassId], axis=0)"
      ],
      "execution_count": 0,
      "outputs": []
    },
    {
      "cell_type": "code",
      "metadata": {
        "id": "yokPfDa0_I8b",
        "colab_type": "code",
        "colab": {}
      },
      "source": [
        "#Preprocessing\n",
        "\n",
        "#Location Clustering\n",
        "X_train2 = X_train[X_train.Latitude_1.isna() == False]\n",
        "\n",
        "dbscan = DBSCAN(eps=1.5, min_samples=10).fit(X_train2[['Latitude_1', 'Longitude_1']])\n",
        "X_train2['location_cluster'] = dbscan.labels_\n",
        "X_train2['location_cluster_2'] = X_train2.apply(france_cluster_func, axis=1)\n",
        "X_train2['location_cluster_2'].replace(-1,1002, inplace=True)\n",
        "\n",
        "X_train = X_train.drop(['Latitude_1', 'Longitude_1'], axis=1).join(X_train2[['location_cluster_2']], how='left')\n",
        "\n",
        "#MultipleImputer with Logistic Regression\n",
        "X_train['Month'] = pd.Categorical(X_train['Month'])\n",
        "X_train['location_cluster_2'] = pd.Categorical(X_train['location_cluster_2'])\n",
        "\n",
        "imputer = MultipleImputer(\n",
        "    n=1,\n",
        "    strategy={\"Month\": \"multinomial logistic\", \"location_cluster_2\": \"multinomial logistic\"},\n",
        "    predictors={\"Month\": \"all\", \"location_cluster_2\": \"all\"},\n",
        "    return_list=True\n",
        ")\n",
        "\n",
        "X_train_imputed = imputer.fit_transform(X_train)[0][1]\n",
        "\n",
        "#One Hot Encoder\n",
        "enc = OneHotEncoder(handle_unknown='ignore', categorical_features=[1024,1025], sparse=False)\n",
        "X_train_enc = enc.fit_transform(X_train_imputed)\n",
        "\n",
        "#Normalization\n",
        "sc = MinMaxScaler((0,1))\n",
        "X_train_sc = sc.fit_transform(X_train_enc)\n",
        "\n",
        "#Oversampling\n",
        "ovsamp = RandomOverSampler(random_state=23)\n",
        "X_train_res, y_train_res = ovsamp.fit_resample(X_train_sc, y_train)\n",
        "\n",
        "#Test Set Preprocessing\n",
        "knn = KNeighborsClassifier(n_neighbors=1) #Location Cluster Prediction for samples with latitude & longitude values\n",
        "knn.fit(X_train2[['Latitude_1', 'Longitude_1']], X_train2['location_cluster_2'])\n",
        "X_test2 = X_test[X_test.Latitude_1.isna() == False]\n",
        "X_test2['location_cluster'] = knn.predict(X_test2[['Latitude_1', 'Longitude_1']])\n",
        "X_test2['location_cluster_2'] = X_test2.apply(france_cluster_func, axis=1)\n",
        "X_test = X_test.drop(['Latitude_1', 'Longitude_1'], axis=1).join(X_test2[['location_cluster_2']], how='left')\n",
        "\n",
        "X_test['Month'] = pd.Categorical(X_test['Month']) #Imputation\n",
        "X_test['location_cluster_2'] = pd.Categorical(X_test['location_cluster_2'])\n",
        "X_test_imputed = imputer.transform(X_test)[0][1]\n",
        "\n",
        "X_test_enc = enc.transform(X_test_imputed) #One Hot Encoding\n",
        "\n",
        "X_test_sc = sc.transform(X_test_enc) #Normalization\n",
        "\n",
        "#Label Preprocessing for Keras\n",
        "\n",
        "lenc = LabelEncoder()\n",
        "lenc.fit(y_train_res)\n",
        "y_train_lenc = lenc.transform(y_train_res)\n",
        "y_test_lenc = lenc.transform(y_test)"
      ],
      "execution_count": 0,
      "outputs": []
    },
    {
      "cell_type": "code",
      "metadata": {
        "id": "O2sq-4TGBKae",
        "colab_type": "code",
        "outputId": "e4c5efcb-f440-4c07-83a3-2573267219b7",
        "colab": {
          "base_uri": "https://localhost:8080/",
          "height": 437
        }
      },
      "source": [
        "#Model\n",
        "n_batch_size = 32\n",
        "n_epochs = 500\n",
        "patience = 10\n",
        "min_delta = 1\n",
        "\n",
        "K.clear_session()\n",
        "model = Sequential()\n",
        "\n",
        "model.add(Dense(755, kernel_initializer = 'uniform', activation='softmax', input_dim = 1049))\n",
        "\n",
        "optimizer = optimizers.Adam(lr=0.01, beta_1=0.9, beta_2=0.999, amsgrad=False)\n",
        "model.compile(optimizer = optimizer, loss = 'categorical_crossentropy', metrics = ['accuracy'])\n",
        "\n",
        "y_train_lenc2 = np_utils.to_categorical(y_train_lenc, num_classes=755)\n",
        "y_test_lenc2 = np_utils.to_categorical(y_test_lenc, num_classes=755)\n",
        "\n",
        "es = EarlyStopping(monitor='val_acc', verbose=1, patience=patience,  min_delta=min_delta)\n",
        "model.fit(X_train_res, y_train_lenc2, batch_size = n_batch_size, epochs = n_epochs, validation_data=(X_test_sc,y_test_lenc2), verbose = 1, callbacks=[es])"
      ],
      "execution_count": 0,
      "outputs": [
        {
          "output_type": "stream",
          "text": [
            "Train on 49830 samples, validate on 1494 samples\n",
            "Epoch 1/500\n",
            "49830/49830 [==============================] - 7s 148us/step - loss: 0.4186 - acc: 0.9351 - val_loss: 0.7701 - val_acc: 0.8300\n",
            "Epoch 2/500\n",
            "49830/49830 [==============================] - 7s 146us/step - loss: 0.0051 - acc: 0.9998 - val_loss: 0.7362 - val_acc: 0.8367\n",
            "Epoch 3/500\n",
            "49830/49830 [==============================] - 7s 145us/step - loss: 0.0016 - acc: 1.0000 - val_loss: 0.7403 - val_acc: 0.8373\n",
            "Epoch 4/500\n",
            "49830/49830 [==============================] - 7s 144us/step - loss: 6.7839e-04 - acc: 1.0000 - val_loss: 0.7486 - val_acc: 0.8367\n",
            "Epoch 5/500\n",
            "49830/49830 [==============================] - 7s 148us/step - loss: 3.2202e-04 - acc: 1.0000 - val_loss: 0.7560 - val_acc: 0.8407\n",
            "Epoch 6/500\n",
            "49830/49830 [==============================] - 7s 148us/step - loss: 1.5423e-04 - acc: 1.0000 - val_loss: 0.7682 - val_acc: 0.8380\n",
            "Epoch 7/500\n",
            "49830/49830 [==============================] - 7s 145us/step - loss: 7.6052e-05 - acc: 1.0000 - val_loss: 0.7826 - val_acc: 0.8407\n",
            "Epoch 8/500\n",
            "49830/49830 [==============================] - 7s 145us/step - loss: 3.8515e-05 - acc: 1.0000 - val_loss: 0.7906 - val_acc: 0.8414\n",
            "Epoch 9/500\n",
            "49830/49830 [==============================] - 7s 145us/step - loss: 2.0572e-05 - acc: 1.0000 - val_loss: 0.8062 - val_acc: 0.8427\n",
            "Epoch 10/500\n",
            "49830/49830 [==============================] - 7s 145us/step - loss: 1.1404e-05 - acc: 1.0000 - val_loss: 0.8141 - val_acc: 0.8427\n",
            "Epoch 11/500\n",
            "49830/49830 [==============================] - 7s 145us/step - loss: 6.6793e-06 - acc: 1.0000 - val_loss: 0.8311 - val_acc: 0.8427\n",
            "Epoch 00011: early stopping\n"
          ],
          "name": "stdout"
        },
        {
          "output_type": "execute_result",
          "data": {
            "text/plain": [
              "<keras.callbacks.History at 0x7fd01a76eb38>"
            ]
          },
          "metadata": {
            "tags": []
          },
          "execution_count": 49
        }
      ]
    },
    {
      "cell_type": "code",
      "metadata": {
        "id": "kCxDiPxjDq46",
        "colab_type": "code",
        "outputId": "68b1859e-c0e5-4c62-d575-6d7f32473403",
        "colab": {
          "base_uri": "https://localhost:8080/",
          "height": 34
        }
      },
      "source": [
        "y_pred = model.predict_classes(X_test_sc)\n",
        "model_score_test = accuracy_score(y_test_lenc, y_pred)\n",
        "print('Accuracy Score on Final Test: {:,.2f}%'.format(model_score_test * 100))"
      ],
      "execution_count": 0,
      "outputs": [
        {
          "output_type": "stream",
          "text": [
            "Accuracy Score on Final Test: 84.27%\n"
          ],
          "name": "stdout"
        }
      ]
    }
  ]
}